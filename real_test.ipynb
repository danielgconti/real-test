{
 "cells": [
  {
   "cell_type": "code",
   "execution_count": 34,
   "id": "e16ce054-eede-418a-b247-95e12f18869f",
   "metadata": {},
   "outputs": [],
   "source": [
    "import pandas as pd\n",
    "import numpy as np"
   ]
  },
  {
   "cell_type": "code",
   "execution_count": 35,
   "id": "708120e8-7d1f-4042-8a2e-0be0adb30a88",
   "metadata": {},
   "outputs": [],
   "source": [
    "# Import the csv as a pandas dataframe\n",
    "df = pd.read_csv(\"Advertising.csv\")"
   ]
  },
  {
   "cell_type": "code",
   "execution_count": 36,
   "id": "83b159c4-c823-4fdc-bcf5-821a11fb56cb",
   "metadata": {},
   "outputs": [],
   "source": [
    "# Rename and drop columns\n",
    "df = df.rename(columns={'TV': 'tv'})\n",
    "df = df[['tv', 'radio', 'newspaper', 'sales']]\n",
    "\n",
    "# Partition training and testing\n",
    "training = df[:160]\n",
    "testing = df[160:]"
   ]
  },
  {
   "cell_type": "code",
   "execution_count": 37,
   "id": "d596a05c-d659-47a2-816e-a49575d67000",
   "metadata": {},
   "outputs": [],
   "source": [
    "# Create training features and labels vectors\n",
    "X_train = training[['tv', 'radio', 'newspaper']].values\n",
    "y_train = training[['sales']].values.flatten()\n",
    "\n",
    "# Create testing features and labels vectors\n",
    "X_test = testing[['tv', 'radio', 'newspaper']].values\n",
    "y_test = testing[['sales']].values.flatten()"
   ]
  },
  {
   "cell_type": "code",
   "execution_count": 38,
   "id": "1a8b361e-eaa6-4862-b7aa-d47c30ecdfbe",
   "metadata": {},
   "outputs": [],
   "source": [
    "# Create a history for the mse\n",
    "loss_history = []"
   ]
  },
  {
   "cell_type": "code",
   "execution_count": 39,
   "id": "54c094b3-e5f6-46c0-9d59-792418b3ff66",
   "metadata": {},
   "outputs": [],
   "source": [
    "# Initialize weights and bias to zero\n",
    "w = np.zeros(X.shape[1])\n",
    "b = 0"
   ]
  },
  {
   "cell_type": "code",
   "execution_count": 40,
   "id": "4964bfc3-3c08-4800-a932-06227fba57e5",
   "metadata": {},
   "outputs": [],
   "source": [
    "# Function to predict values using current weights and bias\n",
    "def predict(w, b, X):\n",
    "    y_hat = np.dot(X, w) + b\n",
    "    return y_hat"
   ]
  },
  {
   "cell_type": "code",
   "execution_count": 41,
   "id": "0b66a429-e0cd-42ff-ac96-a9cb28594d60",
   "metadata": {},
   "outputs": [],
   "source": [
    "# Function to calculate the mse, and the loss vector\n",
    "def calculate_loss(w, b, X, y, loss_history):\n",
    "    y_hat = np.dot(X, w) + b\n",
    "    mse = np.mean((y_hat - y)**2) / 2\n",
    "    loss_history.append(mse)\n",
    "    return mse, loss_history"
   ]
  },
  {
   "cell_type": "code",
   "execution_count": 42,
   "id": "b9f4d284-f334-40c9-9587-073aae049375",
   "metadata": {},
   "outputs": [],
   "source": [
    "# Function to update weights and bias (w = w - dw/dj)\n",
    "# dw/dj = 1/m * ((y_hat[i] - y[i]) * X[i][j])\n",
    "def gradient_descent(w, b, X, y, alpha):\n",
    "    y_hat = np.dot(X, w) + b\n",
    "    loss = y_hat - y\n",
    "    dw_dj = np.dot(X.T, loss) / len(y)\n",
    "    db_dj = np.sum(loss) / len(y)\n",
    "    w = w - alpha * dw_dj\n",
    "    b = b - alpha * db_dj\n",
    "    return w, b\n",
    "\n",
    "# Function to save the model\n",
    "def save_model(w, b):\n",
    "    data = {'w': w, 'b': b}\n",
    "    df = pd.DataFrame(data)\n",
    "    df.to_csv('model.csv', index=False)"
   ]
  },
  {
   "cell_type": "code",
   "execution_count": 43,
   "id": "65380cae-ab4a-442b-9ee2-38f89d8fceb8",
   "metadata": {},
   "outputs": [],
   "source": [
    "def train_model(alpha, epochs, X, y):\n",
    "    w = np.zeros(X.shape[1])\n",
    "    b = 0\n",
    "    loss_history = []\n",
    "    for x in range(epochs):\n",
    "        y_hat = predict(w, b, X)\n",
    "        mse, loss_history = calculate_loss(w, b, X, y, loss_history)\n",
    "        w, b = gradient_descent(w, b, X, y, alpha)\n",
    "    save_model(w, b)\n",
    "    return w, b, loss_history"
   ]
  },
  {
   "cell_type": "code",
   "execution_count": null,
   "id": "066c3ed6-1127-4367-b1e2-9f5861ca530d",
   "metadata": {},
   "outputs": [],
   "source": []
  },
  {
   "cell_type": "code",
   "execution_count": 57,
   "id": "ec708e23-7433-427e-bba7-59217c8cc5b0",
   "metadata": {},
   "outputs": [
    {
     "name": "stdout",
     "output_type": "stream",
     "text": [
      "w:  [ 0.04725372  0.17992932 -0.00094024]\n",
      "b:  2.948389345075714\n",
      "loss history:  1.4108962747040692\n"
     ]
    }
   ],
   "source": [
    "# Set the training rate\n",
    "alpha = 0.00006\n",
    "# Set the number of epochs\n",
    "epochs = 1000000\n",
    "\n",
    "w, b, loss_history = train_model(alpha, epochs, X_train, y_train)\n",
    "print(\"w: \", w)\n",
    "print(\"b: \", b)\n",
    "print(\"loss history: \", loss_history[-1])"
   ]
  }
 ],
 "metadata": {
  "kernelspec": {
   "display_name": "Python 3 (ipykernel)",
   "language": "python",
   "name": "python3"
  },
  "language_info": {
   "codemirror_mode": {
    "name": "ipython",
    "version": 3
   },
   "file_extension": ".py",
   "mimetype": "text/x-python",
   "name": "python",
   "nbconvert_exporter": "python",
   "pygments_lexer": "ipython3",
   "version": "3.9.12"
  }
 },
 "nbformat": 4,
 "nbformat_minor": 5
}
